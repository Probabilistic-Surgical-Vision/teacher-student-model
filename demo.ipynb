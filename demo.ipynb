{
 "cells": [
  {
   "cell_type": "markdown",
   "metadata": {},
   "source": [
    "# _Randomly Connected Neural Networks for Self-Supervised Monocular Depth Estimation_ Demo Notebook"
   ]
  },
  {
   "cell_type": "markdown",
   "metadata": {},
   "source": [
    "## Imports"
   ]
  },
  {
   "cell_type": "code",
   "execution_count": 1,
   "metadata": {},
   "outputs": [
    {
     "name": "stdout",
     "output_type": "stream",
     "text": [
      "Requirement already satisfied: pip in /usr/local/lib/python3.9/dist-packages (22.2.1)\n",
      "\u001b[33mWARNING: Running pip as the 'root' user can result in broken permissions and conflicting behaviour with the system package manager. It is recommended to use a virtual environment instead: https://pip.pypa.io/warnings/venv\u001b[0m\u001b[33m\n",
      "\u001b[0mRequirement already satisfied: numpy in /usr/local/lib/python3.9/dist-packages (from -r requirements.txt (line 1)) (1.23.1)\n",
      "Requirement already satisfied: torch in /usr/local/lib/python3.9/dist-packages (from -r requirements.txt (line 2)) (1.12.0+cu116)\n",
      "Requirement already satisfied: torchvision in /usr/local/lib/python3.9/dist-packages (from -r requirements.txt (line 3)) (0.13.0+cu116)\n",
      "Requirement already satisfied: tqdm in /usr/local/lib/python3.9/dist-packages (from -r requirements.txt (line 4)) (4.64.0)\n",
      "Requirement already satisfied: networkx in /usr/local/lib/python3.9/dist-packages (from -r requirements.txt (line 5)) (2.8.4)\n",
      "Requirement already satisfied: pyyaml in /usr/lib/python3/dist-packages (from -r requirements.txt (line 6)) (5.3.1)\n",
      "Requirement already satisfied: pillow in /usr/local/lib/python3.9/dist-packages (from -r requirements.txt (line 7)) (9.2.0)\n",
      "Requirement already satisfied: matplotlib in /usr/local/lib/python3.9/dist-packages (from -r requirements.txt (line 8)) (3.5.2)\n",
      "Requirement already satisfied: jupyter in /usr/local/lib/python3.9/dist-packages (from -r requirements.txt (line 9)) (1.0.0)\n",
      "Requirement already satisfied: ipython in /usr/local/lib/python3.9/dist-packages (from -r requirements.txt (line 10)) (8.4.0)\n",
      "Requirement already satisfied: nbconvert in /usr/local/lib/python3.9/dist-packages (from -r requirements.txt (line 11)) (6.5.0)\n",
      "Requirement already satisfied: typing-extensions in /usr/local/lib/python3.9/dist-packages (from torch->-r requirements.txt (line 2)) (4.3.0)\n",
      "Requirement already satisfied: requests in /usr/local/lib/python3.9/dist-packages (from torchvision->-r requirements.txt (line 3)) (2.28.1)\n",
      "Requirement already satisfied: packaging>=20.0 in /usr/local/lib/python3.9/dist-packages (from matplotlib->-r requirements.txt (line 8)) (21.3)\n",
      "Requirement already satisfied: kiwisolver>=1.0.1 in /usr/local/lib/python3.9/dist-packages (from matplotlib->-r requirements.txt (line 8)) (1.4.3)\n",
      "Requirement already satisfied: cycler>=0.10 in /usr/local/lib/python3.9/dist-packages (from matplotlib->-r requirements.txt (line 8)) (0.11.0)\n",
      "Requirement already satisfied: fonttools>=4.22.0 in /usr/local/lib/python3.9/dist-packages (from matplotlib->-r requirements.txt (line 8)) (4.34.4)\n",
      "Requirement already satisfied: pyparsing>=2.2.1 in /usr/local/lib/python3.9/dist-packages (from matplotlib->-r requirements.txt (line 8)) (3.0.9)\n",
      "Requirement already satisfied: python-dateutil>=2.7 in /usr/local/lib/python3.9/dist-packages (from matplotlib->-r requirements.txt (line 8)) (2.8.2)\n",
      "Requirement already satisfied: qtconsole in /usr/local/lib/python3.9/dist-packages (from jupyter->-r requirements.txt (line 9)) (5.3.1)\n",
      "Requirement already satisfied: notebook in /usr/local/lib/python3.9/dist-packages (from jupyter->-r requirements.txt (line 9)) (6.4.12)\n",
      "Requirement already satisfied: jupyter-console in /usr/local/lib/python3.9/dist-packages (from jupyter->-r requirements.txt (line 9)) (6.4.4)\n",
      "Requirement already satisfied: ipywidgets in /usr/local/lib/python3.9/dist-packages (from jupyter->-r requirements.txt (line 9)) (7.7.1)\n",
      "Requirement already satisfied: ipykernel in /usr/local/lib/python3.9/dist-packages (from jupyter->-r requirements.txt (line 9)) (6.15.1)\n",
      "Requirement already satisfied: pexpect>4.3 in /usr/local/lib/python3.9/dist-packages (from ipython->-r requirements.txt (line 10)) (4.8.0)\n",
      "Requirement already satisfied: stack-data in /usr/local/lib/python3.9/dist-packages (from ipython->-r requirements.txt (line 10)) (0.3.0)\n",
      "Requirement already satisfied: traitlets>=5 in /usr/local/lib/python3.9/dist-packages (from ipython->-r requirements.txt (line 10)) (5.3.0)\n",
      "Requirement already satisfied: prompt-toolkit!=3.0.0,!=3.0.1,<3.1.0,>=2.0.0 in /usr/local/lib/python3.9/dist-packages (from ipython->-r requirements.txt (line 10)) (3.0.30)\n",
      "Requirement already satisfied: pygments>=2.4.0 in /usr/local/lib/python3.9/dist-packages (from ipython->-r requirements.txt (line 10)) (2.12.0)\n",
      "Requirement already satisfied: pickleshare in /usr/local/lib/python3.9/dist-packages (from ipython->-r requirements.txt (line 10)) (0.7.5)\n",
      "Requirement already satisfied: backcall in /usr/local/lib/python3.9/dist-packages (from ipython->-r requirements.txt (line 10)) (0.2.0)\n",
      "Requirement already satisfied: setuptools>=18.5 in /usr/local/lib/python3.9/dist-packages (from ipython->-r requirements.txt (line 10)) (63.1.0)\n",
      "Requirement already satisfied: matplotlib-inline in /usr/local/lib/python3.9/dist-packages (from ipython->-r requirements.txt (line 10)) (0.1.3)\n",
      "Requirement already satisfied: decorator in /usr/local/lib/python3.9/dist-packages (from ipython->-r requirements.txt (line 10)) (5.1.1)\n",
      "Requirement already satisfied: jedi>=0.16 in /usr/local/lib/python3.9/dist-packages (from ipython->-r requirements.txt (line 10)) (0.18.1)\n",
      "Requirement already satisfied: nbclient>=0.5.0 in /usr/local/lib/python3.9/dist-packages (from nbconvert->-r requirements.txt (line 11)) (0.6.6)\n",
      "Requirement already satisfied: jupyter-core>=4.7 in /usr/local/lib/python3.9/dist-packages (from nbconvert->-r requirements.txt (line 11)) (4.11.1)\n",
      "Requirement already satisfied: tinycss2 in /usr/local/lib/python3.9/dist-packages (from nbconvert->-r requirements.txt (line 11)) (1.1.1)\n",
      "Requirement already satisfied: MarkupSafe>=2.0 in /usr/local/lib/python3.9/dist-packages (from nbconvert->-r requirements.txt (line 11)) (2.1.1)\n",
      "Requirement already satisfied: mistune<2,>=0.8.1 in /usr/local/lib/python3.9/dist-packages (from nbconvert->-r requirements.txt (line 11)) (0.8.4)\n",
      "Requirement already satisfied: jinja2>=3.0 in /usr/local/lib/python3.9/dist-packages (from nbconvert->-r requirements.txt (line 11)) (3.1.2)\n",
      "Requirement already satisfied: pandocfilters>=1.4.1 in /usr/local/lib/python3.9/dist-packages (from nbconvert->-r requirements.txt (line 11)) (1.5.0)\n",
      "Requirement already satisfied: defusedxml in /usr/local/lib/python3.9/dist-packages (from nbconvert->-r requirements.txt (line 11)) (0.7.1)\n",
      "Requirement already satisfied: nbformat>=5.1 in /usr/local/lib/python3.9/dist-packages (from nbconvert->-r requirements.txt (line 11)) (5.4.0)\n",
      "Requirement already satisfied: entrypoints>=0.2.2 in /usr/local/lib/python3.9/dist-packages (from nbconvert->-r requirements.txt (line 11)) (0.4)\n",
      "Requirement already satisfied: beautifulsoup4 in /usr/local/lib/python3.9/dist-packages (from nbconvert->-r requirements.txt (line 11)) (4.11.1)\n",
      "Requirement already satisfied: bleach in /usr/local/lib/python3.9/dist-packages (from nbconvert->-r requirements.txt (line 11)) (5.0.1)\n",
      "Requirement already satisfied: jupyterlab-pygments in /usr/local/lib/python3.9/dist-packages (from nbconvert->-r requirements.txt (line 11)) (0.2.2)\n",
      "Requirement already satisfied: parso<0.9.0,>=0.8.0 in /usr/local/lib/python3.9/dist-packages (from jedi>=0.16->ipython->-r requirements.txt (line 10)) (0.8.3)\n",
      "Requirement already satisfied: nest-asyncio in /usr/local/lib/python3.9/dist-packages (from nbclient>=0.5.0->nbconvert->-r requirements.txt (line 11)) (1.5.5)\n",
      "Requirement already satisfied: jupyter-client>=6.1.5 in /usr/local/lib/python3.9/dist-packages (from nbclient>=0.5.0->nbconvert->-r requirements.txt (line 11)) (7.3.4)\n",
      "Requirement already satisfied: jsonschema>=2.6 in /usr/local/lib/python3.9/dist-packages (from nbformat>=5.1->nbconvert->-r requirements.txt (line 11)) (4.7.2)\n",
      "Requirement already satisfied: fastjsonschema in /usr/local/lib/python3.9/dist-packages (from nbformat>=5.1->nbconvert->-r requirements.txt (line 11)) (2.15.3)\n",
      "Requirement already satisfied: ptyprocess>=0.5 in /usr/local/lib/python3.9/dist-packages (from pexpect>4.3->ipython->-r requirements.txt (line 10)) (0.7.0)\n",
      "Requirement already satisfied: wcwidth in /usr/local/lib/python3.9/dist-packages (from prompt-toolkit!=3.0.0,!=3.0.1,<3.1.0,>=2.0.0->ipython->-r requirements.txt (line 10)) (0.2.5)\n",
      "Requirement already satisfied: six>=1.5 in /usr/lib/python3/dist-packages (from python-dateutil>=2.7->matplotlib->-r requirements.txt (line 8)) (1.14.0)\n",
      "Requirement already satisfied: soupsieve>1.2 in /usr/local/lib/python3.9/dist-packages (from beautifulsoup4->nbconvert->-r requirements.txt (line 11)) (2.3.2.post1)\n",
      "Requirement already satisfied: webencodings in /usr/local/lib/python3.9/dist-packages (from bleach->nbconvert->-r requirements.txt (line 11)) (0.5.1)\n",
      "Requirement already satisfied: debugpy>=1.0 in /usr/local/lib/python3.9/dist-packages (from ipykernel->jupyter->-r requirements.txt (line 9)) (1.6.2)\n",
      "Requirement already satisfied: tornado>=6.1 in /usr/local/lib/python3.9/dist-packages (from ipykernel->jupyter->-r requirements.txt (line 9)) (6.2)\n",
      "Requirement already satisfied: pyzmq>=17 in /usr/local/lib/python3.9/dist-packages (from ipykernel->jupyter->-r requirements.txt (line 9)) (23.2.0)\n",
      "Requirement already satisfied: psutil in /usr/local/lib/python3.9/dist-packages (from ipykernel->jupyter->-r requirements.txt (line 9)) (5.9.1)\n",
      "Requirement already satisfied: jupyterlab-widgets>=1.0.0 in /usr/local/lib/python3.9/dist-packages (from ipywidgets->jupyter->-r requirements.txt (line 9)) (1.1.1)\n",
      "Requirement already satisfied: widgetsnbextension~=3.6.0 in /usr/local/lib/python3.9/dist-packages (from ipywidgets->jupyter->-r requirements.txt (line 9)) (3.6.1)\n",
      "Requirement already satisfied: ipython-genutils~=0.2.0 in /usr/local/lib/python3.9/dist-packages (from ipywidgets->jupyter->-r requirements.txt (line 9)) (0.2.0)\n",
      "Requirement already satisfied: prometheus-client in /usr/local/lib/python3.9/dist-packages (from notebook->jupyter->-r requirements.txt (line 9)) (0.9.0)\n",
      "Requirement already satisfied: terminado>=0.8.3 in /usr/local/lib/python3.9/dist-packages (from notebook->jupyter->-r requirements.txt (line 9)) (0.15.0)\n",
      "Requirement already satisfied: Send2Trash>=1.8.0 in /usr/local/lib/python3.9/dist-packages (from notebook->jupyter->-r requirements.txt (line 9)) (1.8.0)\n",
      "Requirement already satisfied: argon2-cffi in /usr/local/lib/python3.9/dist-packages (from notebook->jupyter->-r requirements.txt (line 9)) (21.3.0)\n",
      "Requirement already satisfied: qtpy>=2.0.1 in /usr/local/lib/python3.9/dist-packages (from qtconsole->jupyter->-r requirements.txt (line 9)) (2.1.0)\n",
      "Requirement already satisfied: charset-normalizer<3,>=2 in /usr/local/lib/python3.9/dist-packages (from requests->torchvision->-r requirements.txt (line 3)) (2.1.0)\n",
      "Requirement already satisfied: idna<4,>=2.5 in /usr/lib/python3/dist-packages (from requests->torchvision->-r requirements.txt (line 3)) (2.8)\n",
      "Requirement already satisfied: urllib3<1.27,>=1.21.1 in /usr/local/lib/python3.9/dist-packages (from requests->torchvision->-r requirements.txt (line 3)) (1.26.10)\n",
      "Requirement already satisfied: certifi>=2017.4.17 in /usr/lib/python3/dist-packages (from requests->torchvision->-r requirements.txt (line 3)) (2019.11.28)\n",
      "Requirement already satisfied: asttokens in /usr/local/lib/python3.9/dist-packages (from stack-data->ipython->-r requirements.txt (line 10)) (2.0.5)\n",
      "Requirement already satisfied: executing in /usr/local/lib/python3.9/dist-packages (from stack-data->ipython->-r requirements.txt (line 10)) (0.8.3)\n",
      "Requirement already satisfied: pure-eval in /usr/local/lib/python3.9/dist-packages (from stack-data->ipython->-r requirements.txt (line 10)) (0.2.2)\n",
      "Requirement already satisfied: attrs>=17.4.0 in /usr/local/lib/python3.9/dist-packages (from jsonschema>=2.6->nbformat>=5.1->nbconvert->-r requirements.txt (line 11)) (18.2.0)\n",
      "Requirement already satisfied: pyrsistent!=0.17.0,!=0.17.1,!=0.17.2,>=0.14.0 in /usr/local/lib/python3.9/dist-packages (from jsonschema>=2.6->nbformat>=5.1->nbconvert->-r requirements.txt (line 11)) (0.18.1)\n",
      "Requirement already satisfied: argon2-cffi-bindings in /usr/local/lib/python3.9/dist-packages (from argon2-cffi->notebook->jupyter->-r requirements.txt (line 9)) (21.2.0)\n",
      "Requirement already satisfied: cffi>=1.0.1 in /usr/local/lib/python3.9/dist-packages (from argon2-cffi-bindings->argon2-cffi->notebook->jupyter->-r requirements.txt (line 9)) (1.15.1)\n",
      "Requirement already satisfied: pycparser in /usr/local/lib/python3.9/dist-packages (from cffi>=1.0.1->argon2-cffi-bindings->argon2-cffi->notebook->jupyter->-r requirements.txt (line 9)) (2.21)\n",
      "\u001b[33mWARNING: Running pip as the 'root' user can result in broken permissions and conflicting behaviour with the system package manager. It is recommended to use a virtual environment instead: https://pip.pypa.io/warnings/venv\u001b[0m\u001b[33m\n",
      "\u001b[0m"
     ]
    }
   ],
   "source": [
    "! pip install --upgrade pip\n",
    "! pip install -r requirements.txt"
   ]
  },
  {
   "cell_type": "code",
   "execution_count": 2,
   "metadata": {},
   "outputs": [],
   "source": [
    "from matplotlib import pyplot as plt\n",
    "\n",
    "from PIL import Image\n",
    "\n",
    "import torch\n",
    "from torch.utils.data import DataLoader\n",
    "from torchvision import transforms\n",
    "\n",
    "import yaml\n",
    "\n",
    "from loaders import CityScapesDataset\n",
    "\n",
    "from model import RandomlyConnectedModel\n",
    "\n",
    "import train\n",
    "from train.loss import MonodepthLoss"
   ]
  },
  {
   "cell_type": "markdown",
   "metadata": {},
   "source": [
    "## Setup"
   ]
  },
  {
   "cell_type": "markdown",
   "metadata": {},
   "source": [
    "### CUDA"
   ]
  },
  {
   "cell_type": "code",
   "execution_count": 3,
   "metadata": {},
   "outputs": [
    {
     "name": "stdout",
     "output_type": "stream",
     "text": [
      "cuda\n"
     ]
    }
   ],
   "source": [
    "device = torch.device(\"cuda\") \\\n",
    "    if torch.cuda.is_available() \\\n",
    "        else torch.device(\"cpu\")\n",
    "\n",
    "print(device)"
   ]
  },
  {
   "cell_type": "markdown",
   "metadata": {},
   "source": [
    "### Config file"
   ]
  },
  {
   "cell_type": "code",
   "execution_count": 4,
   "metadata": {},
   "outputs": [],
   "source": [
    "with open(\"config.yml\") as f:\n",
    "    model_config = yaml.load(f, Loader=yaml.Loader)\n",
    "\n",
    "encoder_config = model_config[\"encoder\"]\n",
    "decoder_config = model_config[\"decoder\"]"
   ]
  },
  {
   "cell_type": "markdown",
   "metadata": {},
   "source": [
    "### Hyperparameters"
   ]
  },
  {
   "cell_type": "code",
   "execution_count": 5,
   "metadata": {},
   "outputs": [],
   "source": [
    "# Dataset parameters\n",
    "batch_size = 8\n",
    "validation_samples = 1000\n",
    "numberof_workers = 8\n",
    "\n",
    "# Training parameters\n",
    "numberof_epochs = 50\n",
    "learning_rate = 1e-4"
   ]
  },
  {
   "cell_type": "markdown",
   "metadata": {},
   "source": [
    "## Dataset"
   ]
  },
  {
   "cell_type": "markdown",
   "metadata": {},
   "source": [
    "### Transforms"
   ]
  },
  {
   "cell_type": "code",
   "execution_count": 6,
   "metadata": {},
   "outputs": [],
   "source": [
    "train_transform = transforms.Compose([\n",
    "    train.transforms.ResizeImage((256, 512)),\n",
    "    train.transforms.RandomFlip(0.5),\n",
    "    train.transforms.ToTensor(),\n",
    "    train.transforms.RandomAugment(0.5, gamma=(0.8, 1.2),\n",
    "                                   brightness=(0.5, 2.0),\n",
    "                                   colour=(0.8, 1.2))\n",
    "])\n",
    "\n",
    "val_transform = transforms.Compose([\n",
    "    train.transforms.ResizeImage((256, 512)),\n",
    "    train.transforms.ToTensor()\n",
    "])"
   ]
  },
  {
   "cell_type": "markdown",
   "metadata": {},
   "source": [
    "### CityScapes"
   ]
  },
  {
   "cell_type": "code",
   "execution_count": 7,
   "metadata": {},
   "outputs": [
    {
     "name": "stdout",
     "output_type": "stream",
     "text": [
      "Dataset size:\n",
      "\tTrain: 2,975 images.\n",
      "\tTest: 500 images.\n"
     ]
    }
   ],
   "source": [
    "train_dataset = CityScapesDataset(\"../datasets/cityscapes/\", \"train\",\n",
    "                                  train_transform)\n",
    "                                  \n",
    "val_dataset = CityScapesDataset(\"../datasets/cityscapes/\", \"val\",\n",
    "                                val_transform, validation_samples)\n",
    "\n",
    "print(f\"Dataset size:\"\n",
    "      f\"\\n\\tTrain: {len(train_dataset):,} images.\"\n",
    "      f\"\\n\\tTest: {len(val_dataset):,} images.\")"
   ]
  },
  {
   "cell_type": "markdown",
   "metadata": {},
   "source": [
    "### Loaders"
   ]
  },
  {
   "cell_type": "code",
   "execution_count": 8,
   "metadata": {},
   "outputs": [],
   "source": [
    "train_loader = DataLoader(train_dataset, batch_size=batch_size,\n",
    "                          shuffle=True, num_workers=numberof_workers)\n",
    "\n",
    "val_loader = DataLoader(val_dataset, batch_size=batch_size,\n",
    "                        shuffle=True, num_workers=numberof_workers)"
   ]
  },
  {
   "cell_type": "markdown",
   "metadata": {},
   "source": [
    "## Model"
   ]
  },
  {
   "cell_type": "markdown",
   "metadata": {},
   "source": [
    "### Initialisation"
   ]
  },
  {
   "cell_type": "code",
   "execution_count": 9,
   "metadata": {},
   "outputs": [
    {
     "name": "stdout",
     "output_type": "stream",
     "text": [
      "Model has 22,818,044 learnable parameters.\n",
      "Using CUDA? True\n"
     ]
    }
   ],
   "source": [
    "# Temporary solution until config code is set up\n",
    "#model = RandomlyConnectedModel(nodes=5, seed=42).to(device)\n",
    "model = RandomlyConnectedModel(load_graph=\"graphs/nodes_5_seed_42\").to(device)\n",
    "#model = RandomlyConnectedModel(encoder_config, decoder_config).to(device)\n",
    "\n",
    "numberof_parameters = sum(p.numel() for p in model.parameters())\n",
    "print(f\"Model has {numberof_parameters:,} learnable parameters.\")\n",
    "print(f\"Using CUDA? {next(model.parameters()).is_cuda}\")"
   ]
  },
  {
   "cell_type": "markdown",
   "metadata": {},
   "source": [
    "### Train"
   ]
  },
  {
   "cell_type": "code",
   "execution_count": 13,
   "metadata": {},
   "outputs": [
    {
     "name": "stderr",
     "output_type": "stream",
     "text": [
      "Epoch #1:   0%|          | 0/372 [00:00<?, ?batch/s]/usr/local/lib/python3.9/dist-packages/torch/nn/functional.py:4215: UserWarning: Default grid_sample and affine_grid behavior has changed to align_corners=False since 1.3.0. Please specify align_corners=True if the old behavior is desired. See the documentation of grid_sample for details.\n",
      "  warnings.warn(\n",
      "Epoch #1: 100%|██████████| 372/372 [04:12<00:00,  1.47batch/s, loss=6.64e+4]\n",
      "Epoch #2: 100%|██████████| 372/372 [04:12<00:00,  1.47batch/s, loss=4.16e+4]\n",
      "Epoch #3: 100%|██████████| 372/372 [04:12<00:00,  1.48batch/s, loss=3.97e+4]\n",
      "Epoch #4: 100%|██████████| 372/372 [04:12<00:00,  1.48batch/s, loss=3.74e+4]\n",
      "Epoch #5: 100%|██████████| 372/372 [04:12<00:00,  1.47batch/s, loss=3.55e+4]\n",
      "Evaluation: 100%|██████████| 63/63 [00:24<00:00,  2.55batch/s, loss=3.11e+4]\n",
      "Epoch #6: 100%|██████████| 372/372 [04:12<00:00,  1.48batch/s, loss=3.5e+4] \n",
      "Epoch #7: 100%|██████████| 372/372 [04:12<00:00,  1.48batch/s, loss=3.47e+4]\n",
      "Epoch #8: 100%|██████████| 372/372 [04:12<00:00,  1.48batch/s, loss=3.46e+4]\n",
      "Epoch #9: 100%|██████████| 372/372 [04:12<00:00,  1.47batch/s, loss=3.41e+4]\n",
      "Epoch #10: 100%|██████████| 372/372 [04:12<00:00,  1.48batch/s, loss=3.4e+4] \n",
      "Evaluation: 100%|██████████| 63/63 [00:24<00:00,  2.56batch/s, loss=2.77e+4]\n",
      "Epoch #11: 100%|██████████| 372/372 [04:12<00:00,  1.47batch/s, loss=3.36e+4]\n",
      "Epoch #12: 100%|██████████| 372/372 [04:12<00:00,  1.47batch/s, loss=3.35e+4]\n",
      "Epoch #13: 100%|██████████| 372/372 [04:12<00:00,  1.48batch/s, loss=3.3e+4] \n",
      "Epoch #14: 100%|██████████| 372/372 [04:12<00:00,  1.47batch/s, loss=3.29e+4]\n",
      "Epoch #15: 100%|██████████| 372/372 [04:11<00:00,  1.48batch/s, loss=3.27e+4]\n",
      "Evaluation: 100%|██████████| 63/63 [00:24<00:00,  2.53batch/s, loss=2.87e+4]\n",
      "Epoch #16: 100%|██████████| 372/372 [04:11<00:00,  1.48batch/s, loss=3.17e+4]\n",
      "Epoch #17: 100%|██████████| 372/372 [04:12<00:00,  1.48batch/s, loss=3.15e+4]\n",
      "Epoch #18: 100%|██████████| 372/372 [04:12<00:00,  1.48batch/s, loss=3.14e+4]\n",
      "Epoch #19: 100%|██████████| 372/372 [04:12<00:00,  1.47batch/s, loss=3.18e+4]\n",
      "Epoch #20: 100%|██████████| 372/372 [04:11<00:00,  1.48batch/s, loss=3.19e+4]\n",
      "Evaluation: 100%|██████████| 63/63 [00:24<00:00,  2.56batch/s, loss=2.65e+4]\n",
      "Epoch #21: 100%|██████████| 372/372 [04:12<00:00,  1.48batch/s, loss=3.16e+4]\n",
      "Epoch #22: 100%|██████████| 372/372 [04:11<00:00,  1.48batch/s, loss=3.21e+4]\n",
      "Epoch #23: 100%|██████████| 372/372 [04:11<00:00,  1.48batch/s, loss=3.2e+4] \n",
      "Epoch #24: 100%|██████████| 372/372 [04:12<00:00,  1.47batch/s, loss=3.22e+4]\n",
      "Epoch #25: 100%|██████████| 372/372 [04:12<00:00,  1.48batch/s, loss=3.29e+4]\n",
      "Evaluation: 100%|██████████| 63/63 [00:24<00:00,  2.54batch/s, loss=2.64e+4]\n",
      "Epoch #26: 100%|██████████| 372/372 [04:12<00:00,  1.47batch/s, loss=3.2e+4] \n",
      "Epoch #27: 100%|██████████| 372/372 [04:12<00:00,  1.47batch/s, loss=3.26e+4]\n",
      "Epoch #28: 100%|██████████| 372/372 [04:11<00:00,  1.48batch/s, loss=3.31e+4]\n",
      "Epoch #29: 100%|██████████| 372/372 [04:12<00:00,  1.48batch/s, loss=3.56e+4]\n",
      "Epoch #30: 100%|██████████| 372/372 [04:12<00:00,  1.47batch/s, loss=3.43e+4]\n",
      "Evaluation: 100%|██████████| 63/63 [00:24<00:00,  2.54batch/s, loss=2.72e+4]\n",
      "Epoch #31: 100%|██████████| 372/372 [04:11<00:00,  1.48batch/s, loss=3.43e+4]\n",
      "Epoch #32: 100%|██████████| 372/372 [04:12<00:00,  1.47batch/s, loss=3.44e+4]\n",
      "Epoch #33: 100%|██████████| 372/372 [04:11<00:00,  1.48batch/s, loss=3.49e+4]\n",
      "Epoch #34: 100%|██████████| 372/372 [04:12<00:00,  1.47batch/s, loss=3.41e+4]\n",
      "Epoch #35: 100%|██████████| 372/372 [04:12<00:00,  1.48batch/s, loss=3.44e+4]\n",
      "Evaluation: 100%|██████████| 63/63 [00:24<00:00,  2.54batch/s, loss=2.66e+4]\n",
      "Epoch #36: 100%|██████████| 372/372 [04:12<00:00,  1.47batch/s, loss=3.42e+4]\n",
      "Epoch #37: 100%|██████████| 372/372 [04:11<00:00,  1.48batch/s, loss=3.36e+4]\n",
      "Epoch #38: 100%|██████████| 372/372 [04:12<00:00,  1.48batch/s, loss=3.43e+4]\n",
      "Epoch #39: 100%|██████████| 372/372 [04:11<00:00,  1.48batch/s, loss=3.33e+4]\n",
      "Epoch #40: 100%|██████████| 372/372 [04:12<00:00,  1.47batch/s, loss=3.34e+4]\n",
      "Evaluation: 100%|██████████| 63/63 [00:25<00:00,  2.52batch/s, loss=2.66e+4]\n",
      "Epoch #41: 100%|██████████| 372/372 [04:12<00:00,  1.47batch/s, loss=3.41e+4]\n",
      "Epoch #42: 100%|██████████| 372/372 [04:12<00:00,  1.47batch/s, loss=3.34e+4]\n",
      "Epoch #43: 100%|██████████| 372/372 [04:12<00:00,  1.48batch/s, loss=3.35e+4]\n",
      "Epoch #44: 100%|██████████| 372/372 [04:12<00:00,  1.47batch/s, loss=3.37e+4]\n",
      "Epoch #45: 100%|██████████| 372/372 [04:11<00:00,  1.48batch/s, loss=3.34e+4]\n",
      "Evaluation: 100%|██████████| 63/63 [00:24<00:00,  2.56batch/s, loss=2.66e+4]\n",
      "Epoch #46: 100%|██████████| 372/372 [04:12<00:00,  1.48batch/s, loss=3.3e+4] \n",
      "Epoch #47: 100%|██████████| 372/372 [04:12<00:00,  1.48batch/s, loss=3.36e+4]\n",
      "Epoch #48: 100%|██████████| 372/372 [04:11<00:00,  1.48batch/s, loss=3.38e+4]\n",
      "Epoch #49: 100%|██████████| 372/372 [04:12<00:00,  1.48batch/s, loss=3.36e+4]\n",
      "Epoch #50: 100%|██████████| 372/372 [04:11<00:00,  1.48batch/s, loss=3.31e+4]\n",
      "Evaluation: 100%|██████████| 63/63 [00:24<00:00,  2.56batch/s, loss=2.64e+4]\n"
     ]
    },
    {
     "name": "stdout",
     "output_type": "stream",
     "text": [
      "Training completed.\n"
     ]
    },
    {
     "data": {
      "text/plain": [
       "([66402.29748928931,\n",
       "  41627.316490255376,\n",
       "  39696.121860299056,\n",
       "  37402.46997332829,\n",
       "  35464.77601016465,\n",
       "  35011.57428700437,\n",
       "  34727.15385584677,\n",
       "  34608.031832787296,\n",
       "  34113.00109206989,\n",
       "  33963.15532594086,\n",
       "  33623.075772849465,\n",
       "  33493.31791834677,\n",
       "  33033.10630880376,\n",
       "  32863.84428553427,\n",
       "  32664.50981812836,\n",
       "  31675.11627919187,\n",
       "  31500.501632854503,\n",
       "  31415.121230258737,\n",
       "  31750.71035996304,\n",
       "  31887.32663652974,\n",
       "  31624.80859375,\n",
       "  32096.0906890541,\n",
       "  31990.304304225472,\n",
       "  32168.729061659946,\n",
       "  32930.87814757645,\n",
       "  32035.732894405242,\n",
       "  32607.57461777554,\n",
       "  33114.33875168011,\n",
       "  35567.25817477318,\n",
       "  34345.18028078797,\n",
       "  34297.5867828041,\n",
       "  34382.09145560316,\n",
       "  34871.46156228999,\n",
       "  34075.835774739586,\n",
       "  34431.44309160786,\n",
       "  34196.459199638775,\n",
       "  33581.54747878864,\n",
       "  34262.77872983871,\n",
       "  33347.04185567876,\n",
       "  33355.20422757057,\n",
       "  34052.98114604335,\n",
       "  33388.29933215726,\n",
       "  33489.316356371804,\n",
       "  33670.06030535954,\n",
       "  33367.75281418011,\n",
       "  33009.362693212366,\n",
       "  33553.76801915323,\n",
       "  33809.99246839298,\n",
       "  33557.197428385414,\n",
       "  33088.07717468918],\n",
       " [31074.41382998512,\n",
       "  27732.89453125,\n",
       "  28676.71755642361,\n",
       "  26457.76004464286,\n",
       "  26357.797278025795,\n",
       "  27156.099702380954,\n",
       "  26562.44193328373,\n",
       "  26587.89425223214,\n",
       "  26598.076497395832,\n",
       "  26439.247612847223])"
      ]
     },
     "execution_count": 13,
     "metadata": {},
     "output_type": "execute_result"
    }
   ],
   "source": [
    "train.train_model(model, train_loader, numberof_epochs, learning_rate,\n",
    "                  val_loader=val_loader, evaluate_every=5, \n",
    "                  save_path=\"trained/\", save_every=10,\n",
    "                  save_comparison_to=\"results/\",\n",
    "                  device=device)"
   ]
  },
  {
   "cell_type": "markdown",
   "metadata": {},
   "source": [
    "### Evaluate"
   ]
  },
  {
   "cell_type": "code",
   "execution_count": 14,
   "metadata": {},
   "outputs": [
    {
     "name": "stderr",
     "output_type": "stream",
     "text": [
      "Evaluation: 100%|██████████| 63/63 [00:24<00:00,  2.60batch/s, loss=2.62e+4]\n"
     ]
    },
    {
     "data": {
      "text/plain": [
       "26154.499069940477"
      ]
     },
     "execution_count": 14,
     "metadata": {},
     "output_type": "execute_result"
    }
   ],
   "source": [
    "model.eval()\n",
    "\n",
    "loss_function = MonodepthLoss().to(device)\n",
    "\n",
    "train.evaluate_model(model, val_loader, loss_function,\n",
    "                     save_comparison_to=\"results/\",\n",
    "                     device=device)"
   ]
  },
  {
   "cell_type": "markdown",
   "metadata": {},
   "source": [
    "### Results"
   ]
  },
  {
   "cell_type": "code",
   "execution_count": 16,
   "metadata": {},
   "outputs": [
    {
     "data": {
      "text/plain": [
       "<matplotlib.image.AxesImage at 0x7f0de1803a60>"
      ]
     },
     "execution_count": 16,
     "metadata": {},
     "output_type": "execute_result"
    },
    {
     "data": {
      "image/png": "[encoded data removed]",
      "text/plain": [
       "<Figure size 432x288 with 1 Axes>"
      ]
     },
     "metadata": {
      "needs_background": "light"
     },
     "output_type": "display_data"
    }
   ],
   "source": [
    "image = Image.open(\"results/final.png\")\n",
    "plt.imshow(image)"
   ]
  }
 ],
 "metadata": {
  "kernelspec": {
   "display_name": "Python 3 (ipykernel)",
   "language": "python",
   "name": "python3"
  },
  "language_info": {
   "codemirror_mode": {
    "name": "ipython",
    "version": 3
   },
   "file_extension": ".py",
   "mimetype": "text/x-python",
   "name": "python",
   "nbconvert_exporter": "python",
   "pygments_lexer": "ipython3",
   "version": "3.9.13"
  },
  "orig_nbformat": 4,
  "vscode": {
   "interpreter": {
    "hash": "e5eae797c35e8ee25ce1c48e15ac48b7aaeab3cd9ec380ff38293f6508486476"
   }
  }
 },
 "nbformat": 4,
 "nbformat_minor": 2
}
